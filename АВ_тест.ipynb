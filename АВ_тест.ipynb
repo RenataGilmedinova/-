{
 "cells": [
  {
   "cell_type": "markdown",
   "id": "4d80c6d6-7e3d-4cfa-afff-5b3becf3b032",
   "metadata": {},
   "source": [
    "# Анализ АB-теста"
   ]
  },
  {
   "cell_type": "code",
   "execution_count": 54,
   "id": "7c87a18d-67d8-41d2-bd0a-796d999be1ea",
   "metadata": {},
   "outputs": [],
   "source": [
    "import pandas as pd\n",
    "import pandahouse as ph\n",
    "import random\n",
    "import numpy as np\n",
    "from scipy.stats import ttest_ind\n",
    "from scipy import stats as st\n",
    "import seaborn as sns\n",
    "from matplotlib import pyplot as plt"
   ]
  },
  {
   "cell_type": "code",
   "execution_count": 55,
   "id": "8517db16-fd36-4a56-bd50-854441cbf96d",
   "metadata": {},
   "outputs": [],
   "source": [
    "#подключаюсь к БД\n",
    "connection = {\n",
    "    'host': 'https://clickhouse.lab.karpov.courses',\n",
    "    'password': 'dpo_python_2020',\n",
    "    'user': 'student',\n",
    "    'database': 'simulator'\n",
    "}"
   ]
  },
  {
   "cell_type": "code",
   "execution_count": 3,
   "id": "69e69baf-f2d5-40a5-8378-1bbed795f37c",
   "metadata": {},
   "outputs": [],
   "source": [
    "# выгружаю данные по группам за необходимый период\n",
    "query = \"\"\"\n",
    "    SELECT exp_group, \n",
    "    user_id,\n",
    "    sum(action = 'like') as likes,\n",
    "    sum(action = 'view') as views,\n",
    "    likes/views as ctr\n",
    "FROM simulator_20230120.feed_actions \n",
    "WHERE toDate(time) between '2023-01-01' and '2023-01-07'\n",
    "    and exp_group in (1,2)\n",
    "GROUP BY exp_group, user_id\n",
    "\"\"\"\n",
    "\n",
    "df = ph.read_clickhouse(query, connection=connection)"
   ]
  },
  {
   "cell_type": "code",
   "execution_count": 4,
   "id": "f255398a-5137-490f-b5f1-1b099ac42836",
   "metadata": {},
   "outputs": [
    {
     "data": {
      "text/plain": [
       "(0.21560459841296287, 0.21441927347479375)"
      ]
     },
     "execution_count": 4,
     "metadata": {},
     "output_type": "execute_result"
    }
   ],
   "source": [
    "# средние значения ctr в двух группах примерно одинаковые\n",
    "df[df['exp_group'] == 1].ctr.mean(), df[df['exp_group'] == 2].ctr.mean()"
   ]
  },
  {
   "cell_type": "code",
   "execution_count": 5,
   "id": "540fcdd2-c118-47ff-8c3d-e3ffbc4880f5",
   "metadata": {
    "tags": []
   },
   "outputs": [
    {
     "data": {
      "image/png": "[encoded data removed]",
      "text/plain": [
       "<Figure size 842.4x595.44 with 1 Axes>"
      ]
     },
     "metadata": {},
     "output_type": "display_data"
    }
   ],
   "source": [
    "# для увеличения размера графиков\n",
    "sns.set(rc={'figure.figsize':(11.7,8.27)})\n",
    "# распределене CTR в группах 1 и 2 отличаются\n",
    "groups = sns.histplot(data = df, \n",
    "              x='ctr', \n",
    "              hue='exp_group', \n",
    "              palette = ['r', 'b'],\n",
    "              alpha=0.5,\n",
    "              kde=False)"
   ]
  },
  {
   "cell_type": "markdown",
   "id": "72b022a5-17ce-4ef4-9f81-42068a3baf9b",
   "metadata": {},
   "source": [
    "#### Вывод: из графиков видно, что распределение ctr в первой группе больше похоже на нормальное. Во второй группе распределение скошено вправо и имеет «хвост» в правой части распределения, также отмечаются выбросы"
   ]
  },
  {
   "cell_type": "markdown",
   "id": "bd9053ac-a182-4844-9d4a-209512af8136",
   "metadata": {},
   "source": [
    "## Тест Стьюдента"
   ]
  },
  {
   "cell_type": "markdown",
   "id": "d2cace8a-15df-41e3-9596-08d7ceb2cba0",
   "metadata": {
    "tags": []
   },
   "source": [
    "H0: новый алгоритм не приводит к увеличению CTR\n",
    "\n",
    "H1: новый алгоритм приводит к увеличению CTR во второй группе\n",
    "\n",
    "Уровень значимости установим равным α=0.05."
   ]
  },
  {
   "cell_type": "code",
   "execution_count": 6,
   "id": "93f84c10-8b0b-478b-9ce2-602b7b769106",
   "metadata": {
    "tags": []
   },
   "outputs": [
    {
     "data": {
      "text/plain": [
       "Ttest_indResult(statistic=0.7116545895251319, pvalue=0.4766869824114077)"
      ]
     },
     "execution_count": 6,
     "metadata": {},
     "output_type": "execute_result"
    }
   ],
   "source": [
    "# проведем t тест\n",
    "st.ttest_ind(df[df.exp_group == 1]['ctr'], df[df.exp_group == 2]['ctr'])"
   ]
  },
  {
   "cell_type": "markdown",
   "id": "6fcdd01a-79ae-4a71-963f-60a9e7d8b801",
   "metadata": {},
   "source": [
    "##### p-value по результатам t теста больше уровня значимости 0,05. таким образом нельзя отклонить нулевую гипотезу о равенстве распределений тестовой и контрольной групп и утверждать, что CTR экспериментальной выборки не изменился.\n",
    "\n",
    "##### Это связано с равенством средних значений CTR тестовой и контрольной групп, что заставляет t-тест ошибочно считать эти распределения похожими."
   ]
  },
  {
   "cell_type": "markdown",
   "id": "e845cbf4-d6d9-4f7f-8810-cb0b47d6afa8",
   "metadata": {},
   "source": [
    "## Тест Манна Уитни"
   ]
  },
  {
   "cell_type": "code",
   "execution_count": 7,
   "id": "8c54dc53-3894-4544-81de-4f18f5f2fa94",
   "metadata": {},
   "outputs": [
    {
     "data": {
      "text/plain": [
       "MannwhitneyuResult(statistic=56601260.5, pvalue=6.0376484617779035e-56)"
      ]
     },
     "execution_count": 7,
     "metadata": {},
     "output_type": "execute_result"
    }
   ],
   "source": [
    "# проведем тест Манна-Уитни.\n",
    "st.mannwhitneyu(df[df.exp_group == 1]['ctr'], df[df.exp_group == 2]['ctr'], alternative='two-sided')"
   ]
  },
  {
   "cell_type": "code",
   "execution_count": 8,
   "id": "287841b4-50dc-4a8d-b3c9-f1b6b0a18beb",
   "metadata": {},
   "outputs": [
    {
     "name": "stdout",
     "output_type": "stream",
     "text": [
      "В 56.66 % случаев A > B. Должно получиться около 50%\n"
     ]
    }
   ],
   "source": [
    "A_gt_B = 0\n",
    "for _ in range(10000):\n",
    "    A_gt_B+= df[df.exp_group == 1].ctr.sample().values[0] > df[df.exp_group == 2].ctr.sample().values[0]\n",
    "    \n",
    "print('В', A_gt_B/100, '% случаев A > B. Должно получиться около 50%')"
   ]
  },
  {
   "cell_type": "markdown",
   "id": "b9f5dcd9-64da-4567-b400-2eef832a0bd6",
   "metadata": {},
   "source": [
    "##### p-value согласно тесту Манна Уитни значительно меньше уровня значимости 0,05.Можем отклонить нулевую гипотезу о равенстве распределений тестовой и контрольной группы.\n",
    "##### + проведенный тест подтверждает график распределений\n",
    "##### причина: в тесте Манна Уитни средние значения ctr не влияют на расчет p value"
   ]
  },
  {
   "cell_type": "markdown",
   "id": "27d9a334-79bd-48e4-b2c4-ca091f809bef",
   "metadata": {},
   "source": [
    "## Сглаженный CTR"
   ]
  },
  {
   "cell_type": "code",
   "execution_count": 9,
   "id": "605bb813-186e-44b0-8e5f-70111513b3c2",
   "metadata": {},
   "outputs": [],
   "source": [
    "def get_smothed_ctr(user_likes, user_views, global_ctr, alpha):\n",
    "    smothed_ctr = (user_likes + alpha * global_ctr) / (user_views + alpha)\n",
    "    return smothed_ctr"
   ]
  },
  {
   "cell_type": "code",
   "execution_count": 21,
   "id": "c688768c-259e-4926-9871-42c5415a97b2",
   "metadata": {},
   "outputs": [
    {
     "data": {
      "text/plain": [
       "<AxesSubplot:xlabel='smothed_ctr', ylabel='Count'>"
      ]
     },
     "execution_count": 21,
     "metadata": {},
     "output_type": "execute_result"
    },
    {
     "data": {
      "image/png": "[encoded data removed]",
      "text/plain": [
       "<Figure size 842.4x595.44 with 1 Axes>"
      ]
     },
     "metadata": {},
     "output_type": "display_data"
    }
   ],
   "source": [
    "# расчет глобального ctr\n",
    "global_ctr_1 = df[df.exp_group == 1].likes.sum()/df[df.exp_group == 1].views.sum()\n",
    "global_ctr_2 = df[df.exp_group == 2].likes.sum()/df[df.exp_group == 2].views.sum()\n",
    "\n",
    "\n",
    "group1 = df[df.exp_group == 1].copy()\n",
    "group2 = df[df.exp_group == 2].copy()\n",
    "\n",
    "# сглаженный CTR для контрольной группы с гиперпараметром α=5\n",
    "# отразим график распределения полученной величины\n",
    "group1['smothed_ctr'] = df.apply(\n",
    "    lambda x: get_smothed_ctr(x['likes'], x['views'], global_ctr_1, 5), axis=1)\n",
    "\n",
    "sns.histplot(group1.smothed_ctr, \n",
    "             kde = False)"
   ]
  },
  {
   "cell_type": "code",
   "execution_count": 40,
   "id": "5961021c-78b7-4db2-a004-454ab50032af",
   "metadata": {},
   "outputs": [
    {
     "data": {
      "text/plain": [
       "<AxesSubplot:xlabel='smothed_ctr', ylabel='Count'>"
      ]
     },
     "execution_count": 40,
     "metadata": {},
     "output_type": "execute_result"
    },
    {
     "data": {
      "image/png": "[encoded data removed]",
      "text/plain": [
       "<Figure size 842.4x595.44 with 1 Axes>"
      ]
     },
     "metadata": {},
     "output_type": "display_data"
    }
   ],
   "source": [
    "# сглаженный CTR для тестовой группы с гиперпараметром α=5\n",
    "# отразим график распределения полученной величины\n",
    "\n",
    "group2['smothed_ctr'] = df.apply(\n",
    "    lambda x: get_smothed_ctr(x['likes'], x['views'], global_ctr_2, 5), axis=1)\n",
    "\n",
    "sns.histplot(group2.smothed_ctr, \n",
    "             kde = False)"
   ]
  },
  {
   "cell_type": "code",
   "execution_count": 45,
   "id": "0a6c0e0b-56b8-450f-8cbf-a7f0974c3b3b",
   "metadata": {},
   "outputs": [
    {
     "data": {
      "text/plain": [
       "Ttest_indResult(statistic=2.2841320431616983, pvalue=0.0223769815558559)"
      ]
     },
     "execution_count": 45,
     "metadata": {},
     "output_type": "execute_result"
    }
   ],
   "source": [
    "# Проведём сравнение сглаженных CTR обеих групп t-тестом.\n",
    "st.ttest_ind(group1.smothed_ctr, group2.smothed_ctr, equal_var=False)"
   ]
  },
  {
   "cell_type": "markdown",
   "id": "cfb65f1a-46bb-43cd-8814-b3c97638fc3b",
   "metadata": {},
   "source": [
    "##### По результатам t теста на сглаженном CTR p-value меньше уровня значимости 0,05. Можем отклонить нулевую гипотезу о равенстве двух групп.\n",
    "##### Сглаживание позволило избавиться от шума (пользователи с небольшим количеством просмотров).\n",
    "##### Однако проблема сглаженного CTR состоит в том, что нет гарантии, что его направленность совпадает с направленностью общего количества кликов."
   ]
  },
  {
   "cell_type": "markdown",
   "id": "b6cd3a9c-240a-4ae8-b683-6eb2f298b780",
   "metadata": {},
   "source": [
    "## Пуассоновский бутстреп"
   ]
  },
  {
   "cell_type": "code",
   "execution_count": 12,
   "id": "5c620642-9ee8-41b3-9705-e7437fd8b76d",
   "metadata": {},
   "outputs": [],
   "source": [
    " # функция для бутстрепа\n",
    "def bootstrap(likes1, views1, likes2, views2, n_bootstrap=2000):\n",
    "\n",
    "    poisson_bootstraps1 = st.poisson(1).rvs(\n",
    "        (n_bootstrap, len(likes1))).astype(np.int64)\n",
    "\n",
    "    poisson_bootstraps2 = st.poisson(1).rvs(\n",
    "            (n_bootstrap, len(likes2))).astype(np.int64)\n",
    "    \n",
    "    globalCTR1 = (poisson_bootstraps1*likes1).sum(axis=1)/(poisson_bootstraps1*views1).sum(axis=1)\n",
    "    \n",
    "    globalCTR2 = (poisson_bootstraps2*likes2).sum(axis=1)/(poisson_bootstraps2*views2).sum(axis=1)\n",
    "\n",
    "    return globalCTR1, globalCTR2"
   ]
  },
  {
   "cell_type": "code",
   "execution_count": 13,
   "id": "c4d811ae-f176-40a4-9d5b-b3a345277391",
   "metadata": {},
   "outputs": [
    {
     "data": {
      "text/plain": [
       "<AxesSubplot:ylabel='Count'>"
      ]
     },
     "execution_count": 13,
     "metadata": {},
     "output_type": "execute_result"
    },
    {
     "data": {
      "image/png": "[encoded data removed]",
      "text/plain": [
       "<Figure size 842.4x595.44 with 1 Axes>"
      ]
     },
     "metadata": {},
     "output_type": "display_data"
    }
   ],
   "source": [
    "likes1 = df[df.exp_group == 1].likes.to_numpy()\n",
    "views1 = df[df.exp_group == 1].views.to_numpy()\n",
    "likes2 = df[df.exp_group == 2].likes.to_numpy()\n",
    "views2 = df[df.exp_group == 2].views.to_numpy()\n",
    "\n",
    "ctr1, ctr2 = bootstrap(likes1, views1, likes2, views2)\n",
    "\n",
    "sns.histplot(ctr1)\n",
    "sns.histplot(ctr2)"
   ]
  },
  {
   "cell_type": "code",
   "execution_count": 14,
   "id": "0a6b6111-a178-40c1-a475-0e51b9c5d607",
   "metadata": {},
   "outputs": [
    {
     "data": {
      "text/plain": [
       "Ttest_indResult(statistic=285.9937856776152, pvalue=0.0)"
      ]
     },
     "execution_count": 14,
     "metadata": {},
     "output_type": "execute_result"
    }
   ],
   "source": [
    "st.ttest_ind(ctr1, ctr2, equal_var = False)"
   ]
  },
  {
   "cell_type": "code",
   "execution_count": 15,
   "id": "da34fd84-4ed5-433b-8434-b9dbb293fa8a",
   "metadata": {},
   "outputs": [
    {
     "name": "stdout",
     "output_type": "stream",
     "text": [
      "0.20802577152676782 0.19799085723417026\n"
     ]
    }
   ],
   "source": [
    "print(ctr1.mean(), ctr2.mean())"
   ]
  },
  {
   "cell_type": "markdown",
   "id": "9d6fedaf-c89a-477c-ab76-2e65ba29034d",
   "metadata": {},
   "source": [
    "##### Согласно графику распределения двух групп не пересекаются. Нулевая гипотеза может быть опровергнута. \n",
    "##### Значение CTR тестовой группы снижается относительно контрольной группы\n",
    "##### Вывод который предварительно можно сделать относительно раскатывания обновление на всех пользователей: \n",
    "##### лучше этого делать не нужно, чтобы не ухудшить метрику CTR"
   ]
  },
  {
   "cell_type": "markdown",
   "id": "d35e1c64-2019-487d-8001-45c3fadf11c5",
   "metadata": {},
   "source": [
    "## Бакетное преобразование"
   ]
  },
  {
   "cell_type": "code",
   "execution_count": 57,
   "id": "d5367cf8-c452-458c-b32e-7e646314063f",
   "metadata": {},
   "outputs": [
    {
     "data": {
      "text/html": [
       "<div>\n",
       "<style scoped>\n",
       "    .dataframe tbody tr th:only-of-type {\n",
       "        vertical-align: middle;\n",
       "    }\n",
       "\n",
       "    .dataframe tbody tr th {\n",
       "        vertical-align: top;\n",
       "    }\n",
       "\n",
       "    .dataframe thead th {\n",
       "        text-align: right;\n",
       "    }\n",
       "</style>\n",
       "<table border=\"1\" class=\"dataframe\">\n",
       "  <thead>\n",
       "    <tr style=\"text-align: right;\">\n",
       "      <th></th>\n",
       "      <th>exp_group</th>\n",
       "      <th>bucket</th>\n",
       "      <th>bucket_ctr</th>\n",
       "    </tr>\n",
       "  </thead>\n",
       "  <tbody>\n",
       "    <tr>\n",
       "      <th>0</th>\n",
       "      <td>1</td>\n",
       "      <td>0</td>\n",
       "      <td>0.196481</td>\n",
       "    </tr>\n",
       "    <tr>\n",
       "      <th>1</th>\n",
       "      <td>2</td>\n",
       "      <td>0</td>\n",
       "      <td>0.194262</td>\n",
       "    </tr>\n",
       "    <tr>\n",
       "      <th>2</th>\n",
       "      <td>1</td>\n",
       "      <td>1</td>\n",
       "      <td>0.211887</td>\n",
       "    </tr>\n",
       "    <tr>\n",
       "      <th>3</th>\n",
       "      <td>2</td>\n",
       "      <td>1</td>\n",
       "      <td>0.215328</td>\n",
       "    </tr>\n",
       "    <tr>\n",
       "      <th>4</th>\n",
       "      <td>1</td>\n",
       "      <td>2</td>\n",
       "      <td>0.206271</td>\n",
       "    </tr>\n",
       "  </tbody>\n",
       "</table>\n",
       "</div>"
      ],
      "text/plain": [
       "   exp_group  bucket  bucket_ctr\n",
       "0          1       0    0.196481\n",
       "1          2       0    0.194262\n",
       "2          1       1    0.211887\n",
       "3          2       1    0.215328\n",
       "4          1       2    0.206271"
      ]
     },
     "metadata": {},
     "output_type": "display_data"
    }
   ],
   "source": [
    "q = \"\"\"\n",
    "    SELECT exp_group, bucket,\n",
    "    SUM(likes)/SUM(views) as bucket_ctr\n",
    "    FROM(SELECT exp_group, xxHash64(user_id)%50 as bucket,\n",
    "            user_id,\n",
    "            sum(action = 'like') as likes,\n",
    "            sum(action = 'view') as views,\n",
    "            likes/views as ctr\n",
    "            FROM simulator_20230120.feed_actions\n",
    "            WHERE (toDate(time) >= '2023-01-01' AND toDate(time) <= '2023-01-07')\n",
    "            AND (exp_group = 2 OR exp_group = 1)            \n",
    "            GROUP BY exp_group, bucket, user_id)\n",
    "    GROUP BY exp_group, bucket\"\"\"\n",
    "df1 = ph.read_clickhouse(q, connection=connection)\n",
    "display(df1.head())"
   ]
  },
  {
   "cell_type": "code",
   "execution_count": 62,
   "id": "14e39e1c-d78c-40d6-b7db-ba98d5bf6fa7",
   "metadata": {},
   "outputs": [
    {
     "data": {
      "image/png": "[encoded data removed]",
      "text/plain": [
       "<Figure size 720x720 with 1 Axes>"
      ]
     },
     "metadata": {},
     "output_type": "display_data"
    }
   ],
   "source": [
    "# Распределение CTR пользовательских бакетов для обеих групп.\n",
    "fig, ax = plt.subplots(1, figsize=(10,10))\n",
    "sns.histplot(data=df1, x='bucket_ctr', hue='exp_group')\n",
    "plt.show()"
   ]
  },
  {
   "cell_type": "code",
   "execution_count": 64,
   "id": "813ad014-66fe-45b0-9354-282534b71c03",
   "metadata": {},
   "outputs": [
    {
     "name": "stdout",
     "output_type": "stream",
     "text": [
      "p-value для Манн_Уитни: 2.859963936492646e-07\n"
     ]
    }
   ],
   "source": [
    "#проверим, схожи ли наши выборки\n",
    "print('p-value для Манн_Уитни:',st.mannwhitneyu(df1[df1.exp_group == 1].bucket_ctr, \n",
    "                   df1[df1.exp_group == 2].bucket_ctr).pvalue)"
   ]
  },
  {
   "cell_type": "code",
   "execution_count": 66,
   "id": "2d728a56-b8be-4d51-ae51-f323a8ffbdec",
   "metadata": {},
   "outputs": [
    {
     "data": {
      "text/plain": [
       "Ttest_indResult(statistic=5.668234732053979, pvalue=3.4455951649945907e-07)"
      ]
     },
     "execution_count": 66,
     "metadata": {},
     "output_type": "execute_result"
    }
   ],
   "source": [
    "# Проведем t тест\n",
    "st.ttest_ind(df1[df1.exp_group == 1].bucket_ctr, \n",
    "                   df1[df1.exp_group == 2].bucket_ctr, \n",
    "                   equal_var = False)"
   ]
  },
  {
   "cell_type": "markdown",
   "id": "002d445c-c731-4ef1-946a-e4759b6ab6bf",
   "metadata": {},
   "source": [
    "##### Проведенный А|Б тест показал, что тестовая и контрольная группа различаются\n",
    "##### При этом у тестовой группы средний показатель CTR ниже, чем у контрольной группы. \n",
    "##### Однако некоторым пользователям тестовой группы новый алгорим рекомендаций вероятнее всего понравился - \n",
    "##### об этом свидетельтвует второй пик на графике распределения CTR\n",
    "\n",
    "##### Окончательно рекомендацией было бы не раскатывать обновление на все пользователей, а потестировать работу алгоритма рекомендаций"
   ]
  }
 ],
 "metadata": {
  "kernelspec": {
   "display_name": "Python 3 (ipykernel)",
   "language": "python",
   "name": "python3"
  },
  "language_info": {
   "codemirror_mode": {
    "name": "ipython",
    "version": 3
   },
   "file_extension": ".py",
   "mimetype": "text/x-python",
   "name": "python",
   "nbconvert_exporter": "python",
   "pygments_lexer": "ipython3",
   "version": "3.8.10"
  }
 },
 "nbformat": 4,
 "nbformat_minor": 5
}
